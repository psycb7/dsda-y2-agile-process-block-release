{
 "cells": [
  {
   "cell_type": "markdown",
   "id": "bf23d394-64a0-4189-8c56-70a778797a91",
   "metadata": {},
   "source": [
    "# Block Release\n",
    "\n",
    "This notebook contains the skeleton of the code to be used for the tasks."
   ]
  },
  {
   "cell_type": "markdown",
   "id": "dd126b81-5c5d-402f-be13-0849c5f0645f",
   "metadata": {},
   "source": [
    "## Imports"
   ]
  },
  {
   "cell_type": "code",
   "execution_count": 3,
   "id": "b6d4f302-3243-4a85-8e86-45ffa3b66dcb",
   "metadata": {
    "tags": []
   },
   "outputs": [],
   "source": [
    "import pandas as pd\n",
    "import requests\n",
    "import json"
   ]
  },
  {
   "cell_type": "markdown",
   "id": "ef2764d3-9668-42c4-a0c7-18f2b849f1bb",
   "metadata": {
    "tags": []
   },
   "source": [
    "## Locations"
   ]
  },
  {
   "cell_type": "code",
   "execution_count": 4,
   "id": "a0d51268-a911-4300-ba82-ddbfa96f9e36",
   "metadata": {
    "tags": []
   },
   "outputs": [],
   "source": [
    "# coordinates are latitude, longitude pairs\n",
    "LOCATION_UNIVERSITY_PARK = (52.93726647677705, -1.1959384006396074)\n",
    "LOCATION_JUBILEE_CAMPUS = (52.95232635429298, -1.1862643609249397)\n",
    "LOCATION_NOTTINGHAM_CITY_CENTRE = (52.953, -1.149)"
   ]
  },
  {
   "cell_type": "markdown",
   "id": "092caed0-a70a-4fbc-92c1-345bc2a33dc2",
   "metadata": {},
   "source": [
    "## API\n",
    "\n",
    "You will need to add more API URLs here as needed to complete the stories."
   ]
  },
  {
   "cell_type": "code",
   "execution_count": 5,
   "id": "a1b208a0-88d8-48e6-bcdd-c2001d3dbdee",
   "metadata": {
    "tags": []
   },
   "outputs": [],
   "source": [
    "API_STREET_CRIME = \"https://data.police.uk/api/crimes-street/\"\n",
    "API_CRIME_CATS = \"https://data.police.uk/api/crime-categories?date=2023\""
   ]
  },
  {
   "cell_type": "markdown",
   "id": "e0aa343a-c9c9-41d5-80bc-17a71d639a6c",
   "metadata": {},
   "source": [
    "## Crimes Near University Park Campus\n",
    "\n",
    "Example function which calculates the number of crimes within 1 mile of University Park campus."
   ]
  },
  {
   "cell_type": "code",
   "execution_count": 6,
   "id": "76e22400-1d34-4ac0-bf4f-51723ccf1c38",
   "metadata": {
    "tags": []
   },
   "outputs": [
    {
     "name": "stdout",
     "output_type": "stream",
     "text": [
      "135\n"
     ]
    }
   ],
   "source": [
    "def count_crimes_within_1_mile(\n",
    "    crime:str, lat: float, lon: float, year: int, month: int\n",
    ") -> int:\n",
    "    \"\"\"Calculate number of crimes within 1 mile of a location for a date.\n",
    "\n",
    "    Args:\n",
    "        crime (str): the specifci crime to query\n",
    "        lat (float): Latitude of the location.\n",
    "        lon (float): Longitude of the location.\n",
    "        year (int): Year to find crimes.\n",
    "        month (int): Month of the provided year to find crimes.\n",
    "\n",
    "    Returns:\n",
    "        int: Count of the crimes\n",
    "    \"\"\"\n",
    "    url = (\n",
    "        API_STREET_CRIME + f\"{crime}?lat={lat}&lng={lon}&date={year}-{month}\"\n",
    "    )\n",
    "    response = requests.get(url)\n",
    "    if response.status_code == 200:\n",
    "        return len(response.json())\n",
    "    else:\n",
    "        print(f\"Error retrieving data: {response.status_code}\")\n",
    "\n",
    "\n",
    "print(count_crimes_within_1_mile(\"all-crime\",*LOCATION_UNIVERSITY_PARK, 2023, 1))"
   ]
  },
  {
   "cell_type": "markdown",
   "id": "d42f3ba1",
   "metadata": {},
   "source": [
    "## Crime Catergories"
   ]
  },
  {
   "cell_type": "code",
   "execution_count": 7,
   "id": "f8661772",
   "metadata": {},
   "outputs": [
    {
     "data": {
      "text/html": [
       "<div>\n",
       "<style scoped>\n",
       "    .dataframe tbody tr th:only-of-type {\n",
       "        vertical-align: middle;\n",
       "    }\n",
       "\n",
       "    .dataframe tbody tr th {\n",
       "        vertical-align: top;\n",
       "    }\n",
       "\n",
       "    .dataframe thead th {\n",
       "        text-align: right;\n",
       "    }\n",
       "</style>\n",
       "<table border=\"1\" class=\"dataframe\">\n",
       "  <thead>\n",
       "    <tr style=\"text-align: right;\">\n",
       "      <th></th>\n",
       "      <th>name</th>\n",
       "      <th>url</th>\n",
       "    </tr>\n",
       "  </thead>\n",
       "  <tbody>\n",
       "    <tr>\n",
       "      <th>0</th>\n",
       "      <td>All crime</td>\n",
       "      <td>all-crime</td>\n",
       "    </tr>\n",
       "    <tr>\n",
       "      <th>1</th>\n",
       "      <td>Anti-social behaviour</td>\n",
       "      <td>anti-social-behaviour</td>\n",
       "    </tr>\n",
       "    <tr>\n",
       "      <th>2</th>\n",
       "      <td>Bicycle theft</td>\n",
       "      <td>bicycle-theft</td>\n",
       "    </tr>\n",
       "    <tr>\n",
       "      <th>3</th>\n",
       "      <td>Burglary</td>\n",
       "      <td>burglary</td>\n",
       "    </tr>\n",
       "    <tr>\n",
       "      <th>4</th>\n",
       "      <td>Criminal damage and arson</td>\n",
       "      <td>criminal-damage-arson</td>\n",
       "    </tr>\n",
       "    <tr>\n",
       "      <th>5</th>\n",
       "      <td>Drugs</td>\n",
       "      <td>drugs</td>\n",
       "    </tr>\n",
       "    <tr>\n",
       "      <th>6</th>\n",
       "      <td>Other theft</td>\n",
       "      <td>other-theft</td>\n",
       "    </tr>\n",
       "    <tr>\n",
       "      <th>7</th>\n",
       "      <td>Possession of weapons</td>\n",
       "      <td>possession-of-weapons</td>\n",
       "    </tr>\n",
       "    <tr>\n",
       "      <th>8</th>\n",
       "      <td>Public order</td>\n",
       "      <td>public-order</td>\n",
       "    </tr>\n",
       "    <tr>\n",
       "      <th>9</th>\n",
       "      <td>Robbery</td>\n",
       "      <td>robbery</td>\n",
       "    </tr>\n",
       "    <tr>\n",
       "      <th>10</th>\n",
       "      <td>Shoplifting</td>\n",
       "      <td>shoplifting</td>\n",
       "    </tr>\n",
       "    <tr>\n",
       "      <th>11</th>\n",
       "      <td>Theft from the person</td>\n",
       "      <td>theft-from-the-person</td>\n",
       "    </tr>\n",
       "    <tr>\n",
       "      <th>12</th>\n",
       "      <td>Vehicle crime</td>\n",
       "      <td>vehicle-crime</td>\n",
       "    </tr>\n",
       "    <tr>\n",
       "      <th>13</th>\n",
       "      <td>Violence and sexual offences</td>\n",
       "      <td>violent-crime</td>\n",
       "    </tr>\n",
       "    <tr>\n",
       "      <th>14</th>\n",
       "      <td>Other crime</td>\n",
       "      <td>other-crime</td>\n",
       "    </tr>\n",
       "  </tbody>\n",
       "</table>\n",
       "</div>"
      ],
      "text/plain": [
       "                            name                    url\n",
       "0                      All crime              all-crime\n",
       "1          Anti-social behaviour  anti-social-behaviour\n",
       "2                  Bicycle theft          bicycle-theft\n",
       "3                       Burglary               burglary\n",
       "4      Criminal damage and arson  criminal-damage-arson\n",
       "5                          Drugs                  drugs\n",
       "6                    Other theft            other-theft\n",
       "7          Possession of weapons  possession-of-weapons\n",
       "8                   Public order           public-order\n",
       "9                        Robbery                robbery\n",
       "10                   Shoplifting            shoplifting\n",
       "11         Theft from the person  theft-from-the-person\n",
       "12                 Vehicle crime          vehicle-crime\n",
       "13  Violence and sexual offences          violent-crime\n",
       "14                   Other crime            other-crime"
      ]
     },
     "metadata": {},
     "output_type": "display_data"
    }
   ],
   "source": [
    "def crime_cats(\n",
    "    year: int, month: int\n",
    ") -> int:\n",
    "    \"\"\"Calculate number of crimes within 1 mile of a location for a date.\n",
    "\n",
    "    Args:\n",
    "        year (int): Year to find crimes.\n",
    "        month (int): Month of the provided year to find crimes.\n",
    "\n",
    "    Returns:\n",
    "        int: Count of the crimes\n",
    "    \"\"\"\n",
    "    \n",
    "    url = (\n",
    "        API_CRIME_CATS\n",
    "    )\n",
    "    response = requests.get(url)\n",
    "    if response.status_code == 200:\n",
    "        return (response.json())\n",
    "    else:\n",
    "        print(f\"Error retrieving data: {response.status_code}\")\n",
    "        \n",
    "crime_cat_json= crime_cats(2023, 1)\n",
    "crime_cats = pd.DataFrame(crime_cat_json)\n",
    "display(crime_cats[crime_cats.columns[::-1]])\n"
   ]
  },
  {
   "cell_type": "markdown",
   "id": "73977f34",
   "metadata": {},
   "source": [
    "## Bike Crimes Near University Campus's over summer"
   ]
  },
  {
   "cell_type": "code",
   "execution_count": 8,
   "id": "43bd5497",
   "metadata": {},
   "outputs": [],
   "source": [
    "def count_crimes_within_1_mile(\n",
    "    crime:str, lat: float, lon: float, year: int, month: int\n",
    ") -> int:\n",
    "    \"\"\"Calculate number of crimes within 1 mile of a location for a date.\n",
    "\n",
    "    Args:\n",
    "        crime (str): the specifci crime to query\n",
    "        lat (float): Latitude of the location.\n",
    "        lon (float): Longitude of the location.\n",
    "        year (int): Year to find crimes.\n",
    "        month (int): Month of the provided year to find crimes.\n",
    "\n",
    "    Returns:\n",
    "        int: Count of the crimes\n",
    "    \"\"\"\n",
    "    url = (\n",
    "        API_STREET_CRIME + f\"{crime}?lat={lat}&lng={lon}&date={year}-{month}\"\n",
    "    )\n",
    "    response = requests.get(url)\n",
    "    if response.status_code == 200:\n",
    "        return len(response.json())\n",
    "    else:\n",
    "        print(f\"Error retrieving data: {response.status_code}\")\n",
    "\n",
    "\n",
    "#    print(count_bikecrime_within_1_mile(*LOCATION_UNIVERSITY_PARK, 2023, 1))"
   ]
  },
  {
   "cell_type": "code",
   "execution_count": 21,
   "id": "c24115ec",
   "metadata": {},
   "outputs": [
    {
     "name": "stdout",
     "output_type": "stream",
     "text": [
      "[4, 7, 8]\n"
     ]
    }
   ],
   "source": [
    "crime_UP7=count_crimes_within_1_mile(\"bicycle-theft\", *LOCATION_UNIVERSITY_PARK, 2022,7)\n",
    "crime_UP8=count_crimes_within_1_mile(\"bicycle-theft\", *LOCATION_UNIVERSITY_PARK, 2022,8)\n",
    "crime_UP9=count_crimes_within_1_mile(\"bicycle-theft\", *LOCATION_UNIVERSITY_PARK, 2022,9)\n",
    "print([crime_UP7, crime_UP8, crime_UP9])"
   ]
  },
  {
   "cell_type": "code",
   "execution_count": 18,
   "id": "0215357d",
   "metadata": {},
   "outputs": [
    {
     "name": "stdout",
     "output_type": "stream",
     "text": [
      "[5, 10, 15]\n"
     ]
    }
   ],
   "source": [
    "crime_JC7=count_crimes_within_1_mile(\"bicycle-theft\", *LOCATION_JUBILEE_CAMPUS, 2022, 7)\n",
    "crime_JC8=count_crimes_within_1_mile(\"bicycle-theft\", *LOCATION_JUBILEE_CAMPUS, 2022, 8)\n",
    "crime_JC9=count_crimes_within_1_mile(\"bicycle-theft\", *LOCATION_JUBILEE_CAMPUS, 2022, 9)\n",
    "print([crime_JC7, crime_JC8, crime_JC9])"
   ]
  },
  {
   "cell_type": "code",
   "execution_count": 19,
   "id": "c4351167",
   "metadata": {},
   "outputs": [
    {
     "name": "stdout",
     "output_type": "stream",
     "text": [
      "[28, 19, 15]\n"
     ]
    }
   ],
   "source": [
    "crime_NCC7=count_crimes_within_1_mile(\"bicycle-theft\", *LOCATION_NOTTINGHAM_CITY_CENTRE, 2022, 7)\n",
    "crime_NCC8=count_crimes_within_1_mile(\"bicycle-theft\", *LOCATION_NOTTINGHAM_CITY_CENTRE, 2022, 8)\n",
    "crime_NCC9=count_crimes_within_1_mile(\"bicycle-theft\", *LOCATION_NOTTINGHAM_CITY_CENTRE, 2022, 9)\n",
    "print([crime_NCC7, crime_NCC8, crime_NCC9])"
   ]
  },
  {
   "cell_type": "code",
   "execution_count": 22,
   "id": "c1cf7ee9",
   "metadata": {},
   "outputs": [
    {
     "data": {
      "text/html": [
       "<div>\n",
       "<style scoped>\n",
       "    .dataframe tbody tr th:only-of-type {\n",
       "        vertical-align: middle;\n",
       "    }\n",
       "\n",
       "    .dataframe tbody tr th {\n",
       "        vertical-align: top;\n",
       "    }\n",
       "\n",
       "    .dataframe thead th {\n",
       "        text-align: right;\n",
       "    }\n",
       "</style>\n",
       "<table border=\"1\" class=\"dataframe\">\n",
       "  <thead>\n",
       "    <tr style=\"text-align: right;\">\n",
       "      <th></th>\n",
       "      <th>University Park</th>\n",
       "      <th>Jubilee Campus</th>\n",
       "      <th>Nottingham City Centre</th>\n",
       "    </tr>\n",
       "  </thead>\n",
       "  <tbody>\n",
       "    <tr>\n",
       "      <th>July</th>\n",
       "      <td>4</td>\n",
       "      <td>5</td>\n",
       "      <td>28</td>\n",
       "    </tr>\n",
       "    <tr>\n",
       "      <th>August</th>\n",
       "      <td>7</td>\n",
       "      <td>10</td>\n",
       "      <td>19</td>\n",
       "    </tr>\n",
       "    <tr>\n",
       "      <th>Septmeber</th>\n",
       "      <td>8</td>\n",
       "      <td>15</td>\n",
       "      <td>15</td>\n",
       "    </tr>\n",
       "  </tbody>\n",
       "</table>\n",
       "</div>"
      ],
      "text/plain": [
       "           University Park  Jubilee Campus  Nottingham City Centre\n",
       "July                     4               5                      28\n",
       "August                   7              10                      19\n",
       "Septmeber                8              15                      15"
      ]
     },
     "metadata": {},
     "output_type": "display_data"
    }
   ],
   "source": [
    "comparison_table= pd.DataFrame([[crime_UP7, crime_JC7, crime_NCC7],[crime_UP8, crime_JC8, crime_NCC8],[crime_UP9, crime_JC9, crime_NCC9]],\n",
    "                  index=pd.Index(['July', 'August', 'Septmeber']),\n",
    "                  columns=['University Park', 'Jubilee Campus', 'Nottingham City Centre'])\n",
    "\n",
    "display(comparison_table)"
   ]
  }
 ],
 "metadata": {
  "kernelspec": {
   "display_name": "Python 3",
   "language": "python",
   "name": "python3"
  },
  "language_info": {
   "codemirror_mode": {
    "name": "ipython",
    "version": 3
   },
   "file_extension": ".py",
   "mimetype": "text/x-python",
   "name": "python",
   "nbconvert_exporter": "python",
   "pygments_lexer": "ipython3",
   "version": "3.8.8"
  }
 },
 "nbformat": 4,
 "nbformat_minor": 5
}
