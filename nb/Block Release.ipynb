{
 "cells": [
  {
   "cell_type": "markdown",
   "id": "bf23d394-64a0-4189-8c56-70a778797a91",
   "metadata": {},
   "source": [
    "# Block Release\n",
    "\n",
    "This notebook contains the skeleton of the code to be used for the tasks."
   ]
  },
  {
   "cell_type": "markdown",
   "id": "dd126b81-5c5d-402f-be13-0849c5f0645f",
   "metadata": {},
   "source": [
    "## Imports"
   ]
  },
  {
   "cell_type": "code",
   "execution_count": 1,
   "id": "b6d4f302-3243-4a85-8e86-45ffa3b66dcb",
   "metadata": {
    "tags": []
   },
   "outputs": [],
   "source": [
    "import pandas as pd\n",
    "import requests"
   ]
  },
  {
   "cell_type": "markdown",
   "id": "ef2764d3-9668-42c4-a0c7-18f2b849f1bb",
   "metadata": {
    "tags": []
   },
   "source": [
    "## Locations"
   ]
  },
  {
   "cell_type": "code",
   "execution_count": 2,
   "id": "a0d51268-a911-4300-ba82-ddbfa96f9e36",
   "metadata": {
    "tags": []
   },
   "outputs": [],
   "source": [
    "# coordinates are latitude, longitude pairs\n",
    "LOCATION_UNIVERSITY_PARK = (52.93726647677705, -1.1959384006396074)\n",
    "LOCATION_JUBILEE_CAMPUS = (52.95232635429298, -1.1862643609249397)\n",
    "LOCATION_NOTTINGHAM_CITY_CENTRE = (52.953, -1.149)"
   ]
  },
  {
   "cell_type": "markdown",
   "id": "092caed0-a70a-4fbc-92c1-345bc2a33dc2",
   "metadata": {},
   "source": [
    "## API\n",
    "\n",
    "You will need to add more API URLs here as needed to complete the stories."
   ]
  },
  {
   "cell_type": "code",
   "execution_count": null,
   "id": "a1b208a0-88d8-48e6-bcdd-c2001d3dbdee",
   "metadata": {
    "tags": []
   },
   "outputs": [],
   "source": [
    "API_STREET_CRIME = \"https://data.police.uk/api/crimes-street/\""
   ]
  },
  {
   "cell_type": "markdown",
   "id": "e0aa343a-c9c9-41d5-80bc-17a71d639a6c",
   "metadata": {},
   "source": [
    "## Crimes Near University Park Campus\n",
    "\n",
    "Example function which calculates the number of crimes within 1 mile of University Park campus."
   ]
  },
  {
   "cell_type": "code",
   "execution_count": null,
   "id": "76e22400-1d34-4ac0-bf4f-51723ccf1c38",
   "metadata": {
    "tags": []
   },
   "outputs": [],
   "source": [
    "def count_crimes_within_1_mile(\n",
    "    lat: float, lon: float, year: int, month: int\n",
    ") -> int:\n",
    "    \"\"\"Calculate number of crimes within 1 mile of a location for a date.\n",
    "\n",
    "    Args:\n",
    "        lat (float): Latitude of the location.\n",
    "        lon (float): Longitude of the location.\n",
    "        year (int): Year to find crimes.\n",
    "        month (int): Month of the provided year to find crimes.\n",
    "\n",
    "    Returns:\n",
    "        int: Count of the crimes\n",
    "    \"\"\"\n",
    "    url = (\n",
    "        API_STREET_CRIME + f\"all-crime?lat={lat}&lng={lon}&date={year}-{month}\"\n",
    "    )\n",
    "    response = requests.get(url)\n",
    "    if response.status_code == 200:\n",
    "        return len(response.json())\n",
    "    else:\n",
    "        print(f\"Error retrieving data: {response.status_code}\")\n",
    "\n",
    "\n",
    "print(count_crimes_within_1_mile(*LOCATION_UNIVERSITY_PARK, 2023, 1))"
   ]
  }
 ],
 "metadata": {
  "kernelspec": {
   "display_name": "Python 3",
   "language": "python",
   "name": "python3"
  },
  "language_info": {
   "codemirror_mode": {
    "name": "ipython",
    "version": 3
   },
   "file_extension": ".py",
   "mimetype": "text/x-python",
   "name": "python",
   "nbconvert_exporter": "python",
   "pygments_lexer": "ipython3",
   "version": "3.8.8"
  }
 },
 "nbformat": 4,
 "nbformat_minor": 5
}
